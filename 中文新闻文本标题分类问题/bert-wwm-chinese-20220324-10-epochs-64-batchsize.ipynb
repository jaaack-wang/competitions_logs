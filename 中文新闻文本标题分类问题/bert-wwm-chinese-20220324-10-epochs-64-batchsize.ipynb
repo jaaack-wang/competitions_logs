{
 "cells": [
  {
   "cell_type": "markdown",
   "execution_count": null,
   "id": "cbd0f847",
   "metadata": {
    "papermill": {
     "duration": 0.007337,
     "end_time": "2022-03-24T20:56:40.830379",
     "exception": false,
     "start_time": "2022-03-24T20:56:40.823042",
     "status": "completed"
    },
    "tags": []
   },
   "outputs": null,
   "source": [
    "## 1. Load dataset"
   ]
  },
  {
   "cell_type": "code",
   "execution_count": 1,
   "id": "794966e8",
   "metadata": {
    "collapsed": false,
    "execution": {
     "iopub.execute_input": "2022-03-24T20:56:40.852748Z",
     "iopub.status.busy": "2022-03-24T20:56:40.852069Z",
     "iopub.status.idle": "2022-03-24T20:56:40.856579Z",
     "shell.execute_reply": "2022-03-24T20:56:40.856983Z",
     "shell.execute_reply.started": "2022-03-24T16:03:35.887936Z"
    },
    "jupyter": {
     "outputs_hidden": false
    },
    "papermill": {
     "duration": 0.021402,
     "end_time": "2022-03-24T20:56:40.857151",
     "exception": false,
     "start_time": "2022-03-24T20:56:40.835749",
     "status": "completed"
    },
    "scrolled": true,
    "tags": []
   },
   "outputs": [],
   "source": [
    "def load_dataset(fpath, test=False, num_row_to_skip=0):\n",
    "    data = open(fpath)\n",
    "    for _ in range(num_row_to_skip):\n",
    "        next(data)\n",
    "\n",
    "    out = []\n",
    "\n",
    "    if test:\n",
    "        for line in data:\n",
    "            out.append(line.strip())\n",
    "\n",
    "        return out\n",
    "\n",
    "    idx_to_label = {}\n",
    "    for line in data:\n",
    "        line = line.strip().split('\\t')\n",
    "        if len(line) == 3:\n",
    "            idx, label, text = line\n",
    "            idx = int(idx)\n",
    "            idx_to_label[idx] = label\n",
    "            out.append([text, idx])\n",
    "\n",
    "    return out, idx_to_label"
   ]
  },
  {
   "cell_type": "code",
   "execution_count": 2,
   "id": "4b1a9b67",
   "metadata": {
    "collapsed": false,
    "execution": {
     "iopub.execute_input": "2022-03-24T20:56:40.923131Z",
     "iopub.status.busy": "2022-03-24T20:56:40.922495Z",
     "iopub.status.idle": "2022-03-24T20:56:42.656624Z",
     "shell.execute_reply": "2022-03-24T20:56:42.657362Z",
     "shell.execute_reply.started": "2022-03-24T16:03:37.162003Z"
    },
    "jupyter": {
     "outputs_hidden": false
    },
    "papermill": {
     "duration": 1.744722,
     "end_time": "2022-03-24T20:56:42.657540",
     "exception": false,
     "start_time": "2022-03-24T20:56:40.912818",
     "status": "completed"
    },
    "scrolled": true,
    "tags": []
   },
   "outputs": [
    {
     "data": {
      "text/plain": [
       "(752471,\n",
       " [['上证50ETF净申购突增', 0], ['交银施罗德保本基金将发行', 0]],\n",
       " {0: '财经',\n",
       "  1: '彩票',\n",
       "  2: '房产',\n",
       "  3: '股票',\n",
       "  4: '家居',\n",
       "  5: '教育',\n",
       "  6: '科技',\n",
       "  7: '社会',\n",
       "  8: '时尚',\n",
       "  9: '时政',\n",
       "  10: '体育',\n",
       "  11: '星座',\n",
       "  12: '游戏',\n",
       "  13: '娱乐'})"
      ]
     },
     "execution_count": 2,
     "metadata": {},
     "output_type": "execute_result"
    }
   ],
   "source": [
    "train_set, idx_to_label = load_dataset('./data/data12701/Train.txt')\n",
    "len(train_set), train_set[:2], idx_to_label"
   ]
  },
  {
   "cell_type": "code",
   "execution_count": 3,
   "id": "53e6d057",
   "metadata": {
    "execution": {
     "iopub.execute_input": "2022-03-24T20:56:42.671430Z",
     "iopub.status.busy": "2022-03-24T20:56:42.670940Z",
     "iopub.status.idle": "2022-03-24T20:56:42.673131Z",
     "shell.execute_reply": "2022-03-24T20:56:42.672744Z",
     "shell.execute_reply.started": "2022-03-23T22:04:39.304906Z"
    },
    "papermill": {
     "duration": 0.010618,
     "end_time": "2022-03-24T20:56:42.673252",
     "exception": false,
     "start_time": "2022-03-24T20:56:42.662634",
     "status": "completed"
    },
    "scrolled": true,
    "tags": []
   },
   "outputs": [],
   "source": [
    "# # split the train_set into train and dev sets\n",
    "# from random import shuffle, seed\n",
    "\n",
    "# seed(43)\n",
    "# shuffle(train_set)\n",
    "\n",
    "# train_set, dev_set = train_set[:652471], train_set[652471: ]"
   ]
  },
  {
   "cell_type": "code",
   "execution_count": 4,
   "id": "4a951caf",
   "metadata": {
    "collapsed": false,
    "execution": {
     "iopub.execute_input": "2022-03-24T20:56:42.685635Z",
     "iopub.status.busy": "2022-03-24T20:56:42.684361Z",
     "iopub.status.idle": "2022-03-24T20:56:42.875687Z",
     "shell.execute_reply": "2022-03-24T20:56:42.875232Z",
     "shell.execute_reply.started": "2022-03-23T22:04:39.309237Z"
    },
    "jupyter": {
     "outputs_hidden": false
    },
    "papermill": {
     "duration": 0.19786,
     "end_time": "2022-03-24T20:56:42.875817",
     "exception": false,
     "start_time": "2022-03-24T20:56:42.677957",
     "status": "completed"
    },
    "scrolled": true,
    "tags": []
   },
   "outputs": [
    {
     "data": {
      "text/plain": [
       "(83599, ['北京君太百货璀璨秋色 满100省353020元', '教育部：小学高年级将开始学习性知识'])"
      ]
     },
     "execution_count": 4,
     "metadata": {},
     "output_type": "execute_result"
    }
   ],
   "source": [
    "test_set = load_dataset('./data/data12701/Test.txt', test=True)\n",
    "len(test_set), test_set[:2]"
   ]
  },
  {
   "cell_type": "markdown",
   "execution_count": null,
   "id": "b4c14793",
   "metadata": {
    "papermill": {
     "duration": 0.004325,
     "end_time": "2022-03-24T20:56:42.884758",
     "exception": false,
     "start_time": "2022-03-24T20:56:42.880433",
     "status": "completed"
    },
    "tags": []
   },
   "outputs": null,
   "source": [
    "## 2. Transform text"
   ]
  },
  {
   "cell_type": "code",
   "execution_count": 5,
   "id": "da19e732",
   "metadata": {
    "collapsed": false,
    "execution": {
     "iopub.execute_input": "2022-03-24T20:56:42.907287Z",
     "iopub.status.busy": "2022-03-24T20:56:42.906421Z",
     "iopub.status.idle": "2022-03-24T20:56:44.704057Z",
     "shell.execute_reply": "2022-03-24T20:56:44.704423Z",
     "shell.execute_reply.started": "2022-03-23T22:04:39.357481Z"
    },
    "jupyter": {
     "outputs_hidden": false
    },
    "papermill": {
     "duration": 1.815332,
     "end_time": "2022-03-24T20:56:44.704564",
     "exception": false,
     "start_time": "2022-03-24T20:56:42.889232",
     "status": "completed"
    },
    "scrolled": true,
    "tags": []
   },
   "outputs": [
    {
     "name": "stderr",
     "output_type": "stream",
     "text": [
      "[2022-03-25 04:56:44,624] [    INFO]"
     ]
    },
    {
     "name": "stderr",
     "output_type": "stream",
     "text": [
      " - Downloading http://paddlenlp.bj.bcebos.com/models/transformers/bert/bert-wwm-chinese-vocab.txt and saved to /home/aistudio/.paddlenlp/models/bert-wwm-chinese"
     ]
    },
    {
     "name": "stderr",
     "output_type": "stream",
     "text": [
      "\n"
     ]
    },
    {
     "name": "stderr",
     "output_type": "stream",
     "text": [
      "[2022-03-25 04:56:44,628] [    INFO]"
     ]
    },
    {
     "name": "stderr",
     "output_type": "stream",
     "text": [
      " - Downloading bert-wwm-chinese-vocab.txt from http://paddlenlp.bj.bcebos.com/models/transformers/bert/bert-wwm-chinese-vocab.txt"
     ]
    },
    {
     "name": "stderr",
     "output_type": "stream",
     "text": [
      "\n"
     ]
    },
    {
     "name": "stderr",
     "output_type": "stream",
     "text": [
      "\r",
      "  0%|          | 0/107 [00:00<?, ?it/s]"
     ]
    },
    {
     "name": "stderr",
     "output_type": "stream",
     "text": [
      "\r",
      "100%|██████████| 107/107 [00:00<00:00, 53818.27it/s]"
     ]
    },
    {
     "name": "stderr",
     "output_type": "stream",
     "text": [
      "\n"
     ]
    }
   ],
   "source": [
    "from paddlenlp.datasets import MapDataset\n",
    "from paddle.io import BatchSampler, DataLoader\n",
    "from paddlenlp.data import Pad, Stack, Tuple\n",
    "from paddlenlp.transformers import BertForSequenceClassification as SeqClfModel\n",
    "from paddlenlp.transformers import BertTokenizer as PTMTokenizer\n",
    "import numpy as np\n",
    "\n",
    "\n",
    "MODEL_NAME = \"bert-wwm-chinese\"\n",
    "tokenizer = PTMTokenizer.from_pretrained(MODEL_NAME)\n",
    "\n",
    "\n",
    "def example_converter(example, tokenizer, max_seq_length=128):\n",
    "\n",
    "    text, label = example\n",
    "    encoded_inputs = tokenizer(text=text, max_seq_len=max_seq_length)\n",
    "    input_ids = encoded_inputs[\"input_ids\"]\n",
    "    token_type_ids = encoded_inputs[\"token_type_ids\"]\n",
    "    label = np.array([label], dtype=\"int64\")\n",
    "    return input_ids, token_type_ids, label\n",
    "\n",
    "\n",
    "def get_trans_fn(text_encoder, max_seq_length=128):\n",
    "    return lambda ex: example_converter(ex, text_encoder, max_seq_length)\n",
    "\n",
    "\n",
    "def get_batchify_fn(tokenizer=tokenizer):\n",
    "\n",
    "    batchify_fn = lambda samples, fn=Tuple(\n",
    "        Pad(axis=0, pad_val=tokenizer.pad_token_id),\n",
    "        Pad(axis=0, pad_val=tokenizer.pad_token_type_id),\n",
    "        Stack(dtype=\"int64\")\n",
    "    ): fn(samples)\n",
    "\n",
    "    return batchify_fn\n",
    "\n",
    "\n",
    "def create_dataloader(dataset,\n",
    "                      trans_fn,\n",
    "                      batchify_fn,\n",
    "                      test=False,\n",
    "                      batch_size=128,\n",
    "                      shuffle=True,\n",
    "                      sampler=BatchSampler):\n",
    "\n",
    "    if test:\n",
    "        dataset = [[d, 0] for d in dataset]\n",
    "\n",
    "    if not isinstance(dataset, MapDataset):\n",
    "        dataset = MapDataset(dataset)\n",
    "\n",
    "    dataset.map(trans_fn)\n",
    "    batch_sampler = sampler(dataset,\n",
    "                            shuffle=shuffle,\n",
    "                            batch_size=batch_size)\n",
    "\n",
    "    dataloder = DataLoader(dataset,\n",
    "                           batch_sampler=batch_sampler,\n",
    "                           collate_fn=batchify_fn)\n",
    "\n",
    "    return dataloder"
   ]
  },
  {
   "cell_type": "code",
   "execution_count": 6,
   "id": "c4408b01",
   "metadata": {
    "collapsed": false,
    "execution": {
     "iopub.execute_input": "2022-03-24T20:56:44.996026Z",
     "iopub.status.busy": "2022-03-24T20:56:44.992576Z",
     "iopub.status.idle": "2022-03-24T20:56:44.998129Z",
     "shell.execute_reply": "2022-03-24T20:56:44.998491Z",
     "shell.execute_reply.started": "2022-03-23T22:04:41.109814Z"
    },
    "jupyter": {
     "outputs_hidden": false
    },
    "papermill": {
     "duration": 0.286397,
     "end_time": "2022-03-24T20:56:44.998632",
     "exception": false,
     "start_time": "2022-03-24T20:56:44.712235",
     "status": "completed"
    },
    "scrolled": true,
    "tags": []
   },
   "outputs": [],
   "source": [
    "max_seq_length = 64; batch_size = 64\n",
    "trans_fn = get_trans_fn(tokenizer, max_seq_length)\n",
    "batchify_fn = get_batchify_fn()\n",
    "train_loader = create_dataloader(train_set, trans_fn, batchify_fn, batch_size=batch_size)\n",
    "# dev_loader = create_dataloader(dev_set, trans_fn, batchify_fn, batch_size=batch_size)\n",
    "test_loader = create_dataloader(test_set, trans_fn, batchify_fn, shuffle=False, test=True, batch_size=batch_size)"
   ]
  },
  {
   "cell_type": "markdown",
   "execution_count": null,
   "id": "9b8a0d4c",
   "metadata": {
    "papermill": {
     "duration": 0.004964,
     "end_time": "2022-03-24T20:56:45.008704",
     "exception": false,
     "start_time": "2022-03-24T20:56:45.003740",
     "status": "completed"
    },
    "tags": []
   },
   "outputs": null,
   "source": [
    "## 3. Model preparing"
   ]
  },
  {
   "cell_type": "code",
   "execution_count": 7,
   "id": "cfea1e99",
   "metadata": {
    "collapsed": false,
    "execution": {
     "iopub.execute_input": "2022-03-24T20:56:45.027860Z",
     "iopub.status.busy": "2022-03-24T20:56:45.027314Z",
     "iopub.status.idle": "2022-03-24T20:56:57.396786Z",
     "shell.execute_reply": "2022-03-24T20:56:57.397191Z",
     "shell.execute_reply.started": "2022-03-23T22:04:41.431668Z"
    },
    "jupyter": {
     "outputs_hidden": false
    },
    "papermill": {
     "duration": 12.383519,
     "end_time": "2022-03-24T20:56:57.397349",
     "exception": false,
     "start_time": "2022-03-24T20:56:45.013830",
     "status": "completed"
    },
    "scrolled": true,
    "tags": []
   },
   "outputs": [
    {
     "name": "stderr",
     "output_type": "stream",
     "text": [
      "[2022-03-25 04:56:45,026] [    INFO]"
     ]
    },
    {
     "name": "stderr",
     "output_type": "stream",
     "text": [
      " - Downloading http://paddlenlp.bj.bcebos.com/models/transformers/bert/bert-wwm-chinese.pdparams and saved to /home/aistudio/.paddlenlp/models/bert-wwm-chinese"
     ]
    },
    {
     "name": "stderr",
     "output_type": "stream",
     "text": [
      "\n"
     ]
    },
    {
     "name": "stderr",
     "output_type": "stream",
     "text": [
      "[2022-03-25 04:56:45,028] [    INFO]"
     ]
    },
    {
     "name": "stderr",
     "output_type": "stream",
     "text": [
      " - Downloading bert-wwm-chinese.pdparams from http://paddlenlp.bj.bcebos.com/models/transformers/bert/bert-wwm-chinese.pdparams"
     ]
    },
    {
     "name": "stderr",
     "output_type": "stream",
     "text": [
      "\n"
     ]
    },
    {
     "name": "stderr",
     "output_type": "stream",
     "text": [
      "\r",
      "  0%|          | 0/399504 [00:00<?, ?it/s]"
     ]
    },
    {
     "name": "stderr",
     "output_type": "stream",
     "text": [
      "\r",
      "  1%|▏         | 5663/399504 [00:00<00:06, 56625.46it/s]"
     ]
    },
    {
     "name": "stderr",
     "output_type": "stream",
     "text": [
      "\r",
      "  3%|▎         | 12655/399504 [00:00<00:06, 60050.30it/s]"
     ]
    },
    {
     "name": "stderr",
     "output_type": "stream",
     "text": [
      "\r",
      "  5%|▍         | 19595/399504 [00:00<00:06, 62578.60it/s]"
     ]
    },
    {
     "name": "stderr",
     "output_type": "stream",
     "text": [
      "\r",
      "  7%|▋         | 26520/399504 [00:00<00:05, 64439.20it/s]"
     ]
    },
    {
     "name": "stderr",
     "output_type": "stream",
     "text": [
      "\r",
      "  9%|▊         | 34432/399504 [00:00<00:05, 68237.02it/s]"
     ]
    },
    {
     "name": "stderr",
     "output_type": "stream",
     "text": [
      "\r",
      " 11%|█         | 42319/399504 [00:00<00:05, 71111.79it/s]"
     ]
    },
    {
     "name": "stderr",
     "output_type": "stream",
     "text": [
      "\r",
      " 12%|█▏        | 49789/399504 [00:00<00:04, 72149.15it/s]"
     ]
    },
    {
     "name": "stderr",
     "output_type": "stream",
     "text": [
      "\r",
      " 14%|█▍        | 56999/399504 [00:00<00:04, 72132.77it/s]"
     ]
    },
    {
     "name": "stderr",
     "output_type": "stream",
     "text": [
      "\r",
      " 16%|█▌        | 64070/399504 [00:00<00:04, 71699.51it/s]"
     ]
    },
    {
     "name": "stderr",
     "output_type": "stream",
     "text": [
      "\r",
      " 18%|█▊        | 71400/399504 [00:01<00:04, 72170.46it/s]"
     ]
    },
    {
     "name": "stderr",
     "output_type": "stream",
     "text": [
      "\r",
      " 20%|█▉        | 78568/399504 [00:01<00:04, 72021.92it/s]"
     ]
    },
    {
     "name": "stderr",
     "output_type": "stream",
     "text": [
      "\r",
      " 22%|██▏       | 85906/399504 [00:01<00:04, 72422.73it/s]"
     ]
    },
    {
     "name": "stderr",
     "output_type": "stream",
     "text": [
      "\r",
      " 23%|██▎       | 93084/399504 [00:01<00:04, 70359.51it/s]"
     ]
    },
    {
     "name": "stderr",
     "output_type": "stream",
     "text": [
      "\r",
      " 25%|██▌       | 100151/399504 [00:01<00:04, 70450.38it/s]"
     ]
    },
    {
     "name": "stderr",
     "output_type": "stream",
     "text": [
      "\r",
      " 27%|██▋       | 107401/399504 [00:01<00:04, 71051.12it/s]"
     ]
    },
    {
     "name": "stderr",
     "output_type": "stream",
     "text": [
      "\r",
      " 29%|██▊       | 114767/399504 [00:01<00:03, 71811.44it/s]"
     ]
    },
    {
     "name": "stderr",
     "output_type": "stream",
     "text": [
      "\r",
      " 31%|███       | 121940/399504 [00:01<00:03, 71703.86it/s]"
     ]
    },
    {
     "name": "stderr",
     "output_type": "stream",
     "text": [
      "\r",
      " 32%|███▏      | 129171/399504 [00:01<00:03, 71883.37it/s]"
     ]
    },
    {
     "name": "stderr",
     "output_type": "stream",
     "text": [
      "\r",
      " 34%|███▍      | 136370/399504 [00:01<00:03, 71912.83it/s]"
     ]
    },
    {
     "name": "stderr",
     "output_type": "stream",
     "text": [
      "\r",
      " 36%|███▌      | 143802/399504 [00:02<00:03, 72615.83it/s]"
     ]
    },
    {
     "name": "stderr",
     "output_type": "stream",
     "text": [
      "\r",
      " 38%|███▊      | 151064/399504 [00:02<00:03, 71842.75it/s]"
     ]
    },
    {
     "name": "stderr",
     "output_type": "stream",
     "text": [
      "\r",
      " 40%|███▉      | 158434/399504 [00:02<00:03, 72386.78it/s]"
     ]
    },
    {
     "name": "stderr",
     "output_type": "stream",
     "text": [
      "\r",
      " 41%|████▏     | 165675/399504 [00:02<00:03, 71943.25it/s]"
     ]
    },
    {
     "name": "stderr",
     "output_type": "stream",
     "text": [
      "\r",
      " 43%|████▎     | 173079/399504 [00:02<00:03, 72555.40it/s]"
     ]
    },
    {
     "name": "stderr",
     "output_type": "stream",
     "text": [
      "\r",
      " 45%|████▌     | 180844/399504 [00:02<00:02, 74009.37it/s]"
     ]
    },
    {
     "name": "stderr",
     "output_type": "stream",
     "text": [
      "\r",
      " 47%|████▋     | 188633/399504 [00:02<00:02, 75131.43it/s]"
     ]
    },
    {
     "name": "stderr",
     "output_type": "stream",
     "text": [
      "\r",
      " 49%|████▉     | 196340/399504 [00:02<00:02, 75699.62it/s]"
     ]
    },
    {
     "name": "stderr",
     "output_type": "stream",
     "text": [
      "\r",
      " 51%|█████     | 204087/399504 [00:02<00:02, 76221.61it/s]"
     ]
    },
    {
     "name": "stderr",
     "output_type": "stream",
     "text": [
      "\r",
      " 53%|█████▎    | 212041/399504 [00:02<00:02, 77185.30it/s]"
     ]
    },
    {
     "name": "stderr",
     "output_type": "stream",
     "text": [
      "\r",
      " 55%|█████▌    | 219996/399504 [00:03<00:02, 77879.56it/s]"
     ]
    },
    {
     "name": "stderr",
     "output_type": "stream",
     "text": [
      "\r",
      " 57%|█████▋    | 227937/399504 [00:03<00:02, 78329.67it/s]"
     ]
    },
    {
     "name": "stderr",
     "output_type": "stream",
     "text": [
      "\r",
      " 59%|█████▉    | 235780/399504 [00:03<00:02, 78354.50it/s]"
     ]
    },
    {
     "name": "stderr",
     "output_type": "stream",
     "text": [
      "\r",
      " 61%|██████    | 243620/399504 [00:03<00:02, 76867.60it/s]"
     ]
    },
    {
     "name": "stderr",
     "output_type": "stream",
     "text": [
      "\r",
      " 63%|██████▎   | 251316/399504 [00:03<00:01, 75772.82it/s]"
     ]
    },
    {
     "name": "stderr",
     "output_type": "stream",
     "text": [
      "\r",
      " 65%|██████▍   | 259218/399504 [00:03<00:01, 76716.22it/s]"
     ]
    },
    {
     "name": "stderr",
     "output_type": "stream",
     "text": [
      "\r",
      " 67%|██████▋   | 267146/399504 [00:03<00:01, 77465.69it/s]"
     ]
    },
    {
     "name": "stderr",
     "output_type": "stream",
     "text": [
      "\r",
      " 69%|██████▉   | 275117/399504 [00:03<00:01, 78125.18it/s]"
     ]
    },
    {
     "name": "stderr",
     "output_type": "stream",
     "text": [
      "\r",
      " 71%|███████   | 283228/399504 [00:03<00:01, 78992.15it/s]"
     ]
    },
    {
     "name": "stderr",
     "output_type": "stream",
     "text": [
      "\r",
      " 73%|███████▎  | 291226/399504 [00:03<00:01, 79284.94it/s]"
     ]
    },
    {
     "name": "stderr",
     "output_type": "stream",
     "text": [
      "\r",
      " 75%|███████▍  | 299332/399504 [00:04<00:01, 79809.15it/s]"
     ]
    },
    {
     "name": "stderr",
     "output_type": "stream",
     "text": [
      "\r",
      " 77%|███████▋  | 307440/399504 [00:04<00:01, 80184.02it/s]"
     ]
    },
    {
     "name": "stderr",
     "output_type": "stream",
     "text": [
      "\r",
      " 79%|███████▉  | 315463/399504 [00:04<00:01, 76594.24it/s]"
     ]
    },
    {
     "name": "stderr",
     "output_type": "stream",
     "text": [
      "\r",
      " 81%|████████  | 323159/399504 [00:04<00:01, 61553.64it/s]"
     ]
    },
    {
     "name": "stderr",
     "output_type": "stream",
     "text": [
      "\r",
      " 83%|████████▎ | 329813/399504 [00:04<00:01, 57955.28it/s]"
     ]
    },
    {
     "name": "stderr",
     "output_type": "stream",
     "text": [
      "\r",
      " 84%|████████▍ | 336001/399504 [00:04<00:01, 54464.17it/s]"
     ]
    },
    {
     "name": "stderr",
     "output_type": "stream",
     "text": [
      "\r",
      " 86%|████████▌ | 342549/399504 [00:04<00:00, 57357.53it/s]"
     ]
    },
    {
     "name": "stderr",
     "output_type": "stream",
     "text": [
      "\r",
      " 88%|████████▊ | 350589/399504 [00:04<00:00, 62752.97it/s]"
     ]
    },
    {
     "name": "stderr",
     "output_type": "stream",
     "text": [
      "\r",
      " 90%|████████▉ | 358665/399504 [00:04<00:00, 67250.78it/s]"
     ]
    },
    {
     "name": "stderr",
     "output_type": "stream",
     "text": [
      "\r",
      " 92%|█████████▏| 366701/399504 [00:05<00:00, 70710.34it/s]"
     ]
    },
    {
     "name": "stderr",
     "output_type": "stream",
     "text": [
      "\r",
      " 94%|█████████▍| 374816/399504 [00:05<00:00, 73547.90it/s]"
     ]
    },
    {
     "name": "stderr",
     "output_type": "stream",
     "text": [
      "\r",
      " 96%|█████████▌| 382627/399504 [00:05<00:00, 74859.49it/s]"
     ]
    },
    {
     "name": "stderr",
     "output_type": "stream",
     "text": [
      "\r",
      " 98%|█████████▊| 390609/399504 [00:05<00:00, 76278.73it/s]"
     ]
    },
    {
     "name": "stderr",
     "output_type": "stream",
     "text": [
      "\r",
      "100%|█████████▉| 398624/399504 [00:05<00:00, 77399.97it/s]"
     ]
    },
    {
     "name": "stderr",
     "output_type": "stream",
     "text": [
      "\r",
      "100%|██████████| 399504/399504 [00:05<00:00, 72677.94it/s]"
     ]
    },
    {
     "name": "stderr",
     "output_type": "stream",
     "text": [
      "\n"
     ]
    },
    {
     "name": "stderr",
     "output_type": "stream",
     "text": [
      "W0325 04:56:50.602037   258 device_context.cc:447] Please NOTE: device: 0, GPU Compute Capability: 7.0, Driver API Version: 10.1, Runtime API Version: 10.1\n",
      "W0325 04:56:50.608598   258 device_context.cc:465] device: 0, cuDNN Version: 7.6.\n"
     ]
    }
   ],
   "source": [
    "import paddle\n",
    "from paddlenlp.transformers import LinearDecayWithWarmup\n",
    "\n",
    "\n",
    "model = SeqClfModel.from_pretrained(MODEL_NAME, num_classes=len(idx_to_label))\n",
    "\n",
    "learning_rate = 5e-5; epochs = 10\n",
    "warmup_proportion = 0.1; weight_decay = 0.01\n",
    "num_training_steps = len(train_loader) * epochs\n",
    "lr_scheduler = LinearDecayWithWarmup(learning_rate, num_training_steps, warmup_proportion)\n",
    "optimizer = paddle.optimizer.AdamW(\n",
    "    learning_rate=lr_scheduler,\n",
    "    parameters=model.parameters(),\n",
    "    weight_decay=weight_decay,\n",
    "    apply_decay_param_fun=lambda x: x in [\n",
    "        p.name for n, p in model.named_parameters()\n",
    "        if not any(nd in n for nd in [\"bias\", \"norm\"])\n",
    "    ])\n",
    "\n",
    "criterion = paddle.nn.loss.CrossEntropyLoss()\n",
    "metric = paddle.metric.Accuracy()\n",
    "\n",
    "\n",
    "# @paddle.no_grad()\n",
    "# def evaluate(model, criterion, metric, data_loader):\n",
    "#     \"\"\"\n",
    "#     Given a dataset, it evals model and computes the metric.\n",
    "\n",
    "#     Args:\n",
    "#         model(obj:`paddle.nn.Layer`): A model to classify texts.\n",
    "#         data_loader(obj:`paddle.io.DataLoader`): The dataset loader which generates batches.\n",
    "#         criterion(obj:`paddle.nn.Layer`): It can compute the loss.\n",
    "#         metric(obj:`paddle.metric.Metric`): The evaluation metric.\n",
    "#     \"\"\"\n",
    "#     model.eval()\n",
    "#     metric.reset()\n",
    "#     losses = []\n",
    "#     for batch in data_loader:\n",
    "#         input_ids, token_type_ids, labels = batch\n",
    "#         logits = model(input_ids, token_type_ids)\n",
    "#         loss = criterion(logits, labels)\n",
    "#         losses.append(loss.numpy())\n",
    "#         correct = metric.compute(logits, labels)\n",
    "#         metric.update(correct)\n",
    "#         accu = metric.accumulate()\n",
    "#     print(\"eval loss: %.5f, accu: %.5f\" % (np.mean(losses), accu))\n",
    "#     model.train()\n",
    "#     metric.reset()"
   ]
  },
  {
   "cell_type": "markdown",
   "execution_count": null,
   "id": "59e2412e",
   "metadata": {
    "papermill": {
     "duration": 0.009245,
     "end_time": "2022-03-24T20:56:57.423566",
     "exception": false,
     "start_time": "2022-03-24T20:56:57.414321",
     "status": "completed"
    },
    "tags": []
   },
   "outputs": null,
   "source": [
    "## 4. Model training"
   ]
  },
  {
   "cell_type": "code",
   "execution_count": 8,
   "id": "9333bebc",
   "metadata": {
    "collapsed": false,
    "execution": {
     "iopub.execute_input": "2022-03-24T20:56:57.449803Z",
     "iopub.status.busy": "2022-03-24T20:56:57.449227Z",
     "iopub.status.idle": "2022-03-25T03:08:43.494919Z",
     "shell.execute_reply": "2022-03-25T03:08:43.494270Z"
    },
    "jupyter": {
     "outputs_hidden": false
    },
    "papermill": {
     "duration": 22306.063289,
     "end_time": "2022-03-25T03:08:43.495119",
     "exception": false,
     "start_time": "2022-03-24T20:56:57.431830",
     "status": "completed"
    },
    "scrolled": true,
    "tags": []
   },
   "outputs": [
    {
     "name": "stdout",
     "output_type": "stream",
     "text": [
      "global step 5000, epoch: 1, batch: 5000, loss: 0.24993, acc: 0.86628"
     ]
    },
    {
     "name": "stdout",
     "output_type": "stream",
     "text": [
      "\n"
     ]
    },
    {
     "name": "stdout",
     "output_type": "stream",
     "text": [
      "global step 10000, epoch: 1, batch: 10000, loss: 0.26144, acc: 0.90113"
     ]
    },
    {
     "name": "stdout",
     "output_type": "stream",
     "text": [
      "\n"
     ]
    },
    {
     "name": "stdout",
     "output_type": "stream",
     "text": [
      "global step 15000, epoch: 2, batch: 3242, loss: 0.17364, acc: 0.91426"
     ]
    },
    {
     "name": "stdout",
     "output_type": "stream",
     "text": [
      "\n"
     ]
    },
    {
     "name": "stdout",
     "output_type": "stream",
     "text": [
      "global step 20000, epoch: 2, batch: 8242, loss: 0.12977, acc: 0.92193"
     ]
    },
    {
     "name": "stdout",
     "output_type": "stream",
     "text": [
      "\n"
     ]
    },
    {
     "name": "stdout",
     "output_type": "stream",
     "text": [
      "global step 25000, epoch: 3, batch: 1484, loss: 0.06254, acc: 0.92760"
     ]
    },
    {
     "name": "stdout",
     "output_type": "stream",
     "text": [
      "\n"
     ]
    },
    {
     "name": "stdout",
     "output_type": "stream",
     "text": [
      "global step 30000, epoch: 3, batch: 6484, loss: 0.03021, acc: 0.93246"
     ]
    },
    {
     "name": "stdout",
     "output_type": "stream",
     "text": [
      "\n"
     ]
    },
    {
     "name": "stdout",
     "output_type": "stream",
     "text": [
      "global step 35000, epoch: 3, batch: 11484, loss: 0.12317, acc: 0.93582"
     ]
    },
    {
     "name": "stdout",
     "output_type": "stream",
     "text": [
      "\n"
     ]
    },
    {
     "name": "stdout",
     "output_type": "stream",
     "text": [
      "global step 40000, epoch: 4, batch: 4726, loss: 0.07457, acc: 0.93946"
     ]
    },
    {
     "name": "stdout",
     "output_type": "stream",
     "text": [
      "\n"
     ]
    },
    {
     "name": "stdout",
     "output_type": "stream",
     "text": [
      "global step 45000, epoch: 4, batch: 9726, loss: 0.10953, acc: 0.94228"
     ]
    },
    {
     "name": "stdout",
     "output_type": "stream",
     "text": [
      "\n"
     ]
    },
    {
     "name": "stdout",
     "output_type": "stream",
     "text": [
      "global step 50000, epoch: 5, batch: 2968, loss: 0.00956, acc: 0.94503"
     ]
    },
    {
     "name": "stdout",
     "output_type": "stream",
     "text": [
      "\n"
     ]
    },
    {
     "name": "stdout",
     "output_type": "stream",
     "text": [
      "global step 55000, epoch: 5, batch: 7968, loss: 0.08340, acc: 0.94746"
     ]
    },
    {
     "name": "stdout",
     "output_type": "stream",
     "text": [
      "\n"
     ]
    },
    {
     "name": "stdout",
     "output_type": "stream",
     "text": [
      "global step 60000, epoch: 6, batch: 1210, loss: 0.08326, acc: 0.94960"
     ]
    },
    {
     "name": "stdout",
     "output_type": "stream",
     "text": [
      "\n"
     ]
    },
    {
     "name": "stdout",
     "output_type": "stream",
     "text": [
      "global step 65000, epoch: 6, batch: 6210, loss: 0.04879, acc: 0.95189"
     ]
    },
    {
     "name": "stdout",
     "output_type": "stream",
     "text": [
      "\n"
     ]
    },
    {
     "name": "stdout",
     "output_type": "stream",
     "text": [
      "global step 70000, epoch: 6, batch: 11210, loss: 0.11789, acc: 0.95374"
     ]
    },
    {
     "name": "stdout",
     "output_type": "stream",
     "text": [
      "\n"
     ]
    },
    {
     "name": "stdout",
     "output_type": "stream",
     "text": [
      "global step 75000, epoch: 7, batch: 4452, loss: 0.09232, acc: 0.95580"
     ]
    },
    {
     "name": "stdout",
     "output_type": "stream",
     "text": [
      "\n"
     ]
    },
    {
     "name": "stdout",
     "output_type": "stream",
     "text": [
      "global step 80000, epoch: 7, batch: 9452, loss: 0.14026, acc: 0.95761"
     ]
    },
    {
     "name": "stdout",
     "output_type": "stream",
     "text": [
      "\n"
     ]
    },
    {
     "name": "stdout",
     "output_type": "stream",
     "text": [
      "global step 85000, epoch: 8, batch: 2694, loss: 0.08094, acc: 0.95936"
     ]
    },
    {
     "name": "stdout",
     "output_type": "stream",
     "text": [
      "\n"
     ]
    },
    {
     "name": "stdout",
     "output_type": "stream",
     "text": [
      "global step 90000, epoch: 8, batch: 7694, loss: 0.01834, acc: 0.96105"
     ]
    },
    {
     "name": "stdout",
     "output_type": "stream",
     "text": [
      "\n"
     ]
    },
    {
     "name": "stdout",
     "output_type": "stream",
     "text": [
      "global step 95000, epoch: 9, batch: 936, loss: 0.01378, acc: 0.96258"
     ]
    },
    {
     "name": "stdout",
     "output_type": "stream",
     "text": [
      "\n"
     ]
    },
    {
     "name": "stdout",
     "output_type": "stream",
     "text": [
      "global step 100000, epoch: 9, batch: 5936, loss: 0.00491, acc: 0.96413"
     ]
    },
    {
     "name": "stdout",
     "output_type": "stream",
     "text": [
      "\n"
     ]
    },
    {
     "name": "stdout",
     "output_type": "stream",
     "text": [
      "global step 105000, epoch: 9, batch: 10936, loss: 0.04909, acc: 0.96551"
     ]
    },
    {
     "name": "stdout",
     "output_type": "stream",
     "text": [
      "\n"
     ]
    },
    {
     "name": "stdout",
     "output_type": "stream",
     "text": [
      "global step 110000, epoch: 10, batch: 4178, loss: 0.04353, acc: 0.96687"
     ]
    },
    {
     "name": "stdout",
     "output_type": "stream",
     "text": [
      "\n"
     ]
    },
    {
     "name": "stdout",
     "output_type": "stream",
     "text": [
      "global step 115000, epoch: 10, batch: 9178, loss: 0.01131, acc: 0.96814"
     ]
    },
    {
     "name": "stdout",
     "output_type": "stream",
     "text": [
      "\n"
     ]
    }
   ],
   "source": [
    "import paddle.nn.functional as F\n",
    "\n",
    "\n",
    "global_step = 0\n",
    "paddle.set_device(\"gpu\")\n",
    "for epoch in range(1, epochs + 1):\n",
    "    for step, batch in enumerate(train_loader, start=1):\n",
    "        input_ids, segment_ids, labels = batch\n",
    "        logits = model(input_ids, segment_ids)\n",
    "        loss = criterion(logits, labels)\n",
    "        probs = F.softmax(logits, axis=1)\n",
    "        correct = metric.compute(probs, labels)\n",
    "        metric.update(correct)\n",
    "        acc = metric.accumulate()\n",
    "\n",
    "        global_step += 1\n",
    "        if global_step % 5000 == 0 :\n",
    "            print(\"global step %d, epoch: %d, batch: %d, loss: %.5f, acc: %.5f\" % (global_step, epoch, step, loss, acc))\n",
    "\n",
    "        loss.backward()\n",
    "        optimizer.step()\n",
    "        lr_scheduler.step()\n",
    "        optimizer.clear_grad()\n",
    "    # evaluate(model, criterion, metric, dev_loader)\n",
    "\n",
    "\n",
    "# model.save_pretrained('/home/aistudio/checkpoint')\n",
    "# tokenizer.save_pretrained('/home/aistudio/checkpoint')"
   ]
  },
  {
   "cell_type": "markdown",
   "execution_count": null,
   "id": "20149868",
   "metadata": {
    "papermill": {
     "duration": 0.016175,
     "end_time": "2022-03-25T03:08:43.522065",
     "exception": false,
     "start_time": "2022-03-25T03:08:43.505890",
     "status": "completed"
    },
    "tags": []
   },
   "outputs": null,
   "source": [
    "## 5. Prediction"
   ]
  },
  {
   "cell_type": "code",
   "execution_count": 9,
   "id": "21397bf2",
   "metadata": {
    "collapsed": false,
    "execution": {
     "iopub.execute_input": "2022-03-25T03:08:43.559632Z",
     "iopub.status.busy": "2022-03-25T03:08:43.559073Z",
     "iopub.status.idle": "2022-03-25T03:09:38.415128Z",
     "shell.execute_reply": "2022-03-25T03:09:38.414609Z"
    },
    "jupyter": {
     "outputs_hidden": false
    },
    "papermill": {
     "duration": 54.882285,
     "end_time": "2022-03-25T03:09:38.415260",
     "exception": false,
     "start_time": "2022-03-25T03:08:43.532975",
     "status": "completed"
    },
    "scrolled": true,
    "tags": []
   },
   "outputs": [],
   "source": [
    "predictions = []\n",
    "\n",
    "for batch in test_loader:\n",
    "    input_ids, segment_ids, _ = batch\n",
    "    logits = model(input_ids, segment_ids)\n",
    "    probs = F.softmax(logits, axis=1)\n",
    "    preds = paddle.argmax(probs, axis=1).numpy().tolist()\n",
    "    predictions.extend(preds)"
   ]
  },
  {
   "cell_type": "code",
   "execution_count": 10,
   "id": "85498b5e",
   "metadata": {
    "collapsed": false,
    "execution": {
     "iopub.execute_input": "2022-03-25T03:09:38.442592Z",
     "iopub.status.busy": "2022-03-25T03:09:38.440223Z",
     "iopub.status.idle": "2022-03-25T03:09:38.468549Z",
     "shell.execute_reply": "2022-03-25T03:09:38.468102Z"
    },
    "jupyter": {
     "outputs_hidden": false
    },
    "papermill": {
     "duration": 0.043754,
     "end_time": "2022-03-25T03:09:38.468680",
     "exception": false,
     "start_time": "2022-03-25T03:09:38.424926",
     "status": "completed"
    },
    "scrolled": true,
    "tags": []
   },
   "outputs": [],
   "source": [
    "with open('result.txt', 'w') as f:\n",
    "    f.write(f'Acc: {acc}\\n')\n",
    "    f.write(idx_to_label[predictions[0]])\n",
    "    for p in predictions[1:]:\n",
    "        f.write('\\n' + idx_to_label[p])\n",
    "    f.close()"
   ]
  }
 ],
 "metadata": {
  "kernelspec": {
   "display_name": "Python 3",
   "language": "python",
   "name": "py35-paddle1.2.0"
  },
  "language_info": {
   "codemirror_mode": {
    "name": "ipython",
    "version": 3
   },
   "file_extension": ".py",
   "mimetype": "text/x-python",
   "name": "python",
   "nbconvert_exporter": "python",
   "pygments_lexer": "ipython3",
   "version": "3.7.4"
  },
  "papermill": {
   "default_parameters": {},
   "duration": 22380.673225,
   "end_time": "2022-03-25T03:09:40.330747",
   "environment_variables": {},
   "exception": null,
   "input_path": "/home/aistudio/main.ipynb",
   "output_path": "/home/aistudio/.main.ipynb",
   "parameters": {},
   "start_time": "2022-03-24T20:56:39.657522",
   "version": "2.3.3"
  }
 },
 "nbformat": 4,
 "nbformat_minor": 5
}