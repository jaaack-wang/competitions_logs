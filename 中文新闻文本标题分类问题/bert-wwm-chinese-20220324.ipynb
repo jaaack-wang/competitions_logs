{
 "cells": [
  {
   "cell_type": "markdown",
   "execution_count": null,
   "id": "80011e29",
   "metadata": {
    "papermill": {
     "duration": 0.007261,
     "end_time": "2022-03-24T18:33:16.117580",
     "exception": false,
     "start_time": "2022-03-24T18:33:16.110319",
     "status": "completed"
    },
    "tags": []
   },
   "outputs": null,
   "source": [
    "## 1. Load dataset"
   ]
  },
  {
   "cell_type": "code",
   "execution_count": 1,
   "id": "97b8a943",
   "metadata": {
    "collapsed": false,
    "execution": {
     "iopub.execute_input": "2022-03-24T18:33:16.223534Z",
     "iopub.status.busy": "2022-03-24T18:33:16.223017Z",
     "iopub.status.idle": "2022-03-24T18:33:16.225501Z",
     "shell.execute_reply": "2022-03-24T18:33:16.225856Z",
     "shell.execute_reply.started": "2022-03-24T16:03:35.887936Z"
    },
    "jupyter": {
     "outputs_hidden": false
    },
    "papermill": {
     "duration": 0.103573,
     "end_time": "2022-03-24T18:33:16.226010",
     "exception": false,
     "start_time": "2022-03-24T18:33:16.122437",
     "status": "completed"
    },
    "scrolled": true,
    "tags": []
   },
   "outputs": [],
   "source": [
    "def load_dataset(fpath, test=False, num_row_to_skip=0):\n",
    "    data = open(fpath)\n",
    "    for _ in range(num_row_to_skip):\n",
    "        next(data)\n",
    "\n",
    "    out = []\n",
    "\n",
    "    if test:\n",
    "        for line in data:\n",
    "            out.append(line.strip())\n",
    "\n",
    "        return out\n",
    "\n",
    "    idx_to_label = {}\n",
    "    for line in data:\n",
    "        line = line.strip().split('\\t')\n",
    "        if len(line) == 3:\n",
    "            idx, label, text = line\n",
    "            idx = int(idx)\n",
    "            idx_to_label[idx] = label\n",
    "            out.append([text, idx])\n",
    "\n",
    "    return out, idx_to_label"
   ]
  },
  {
   "cell_type": "code",
   "execution_count": 2,
   "id": "8f2e3088",
   "metadata": {
    "collapsed": false,
    "execution": {
     "iopub.execute_input": "2022-03-24T18:33:16.238426Z",
     "iopub.status.busy": "2022-03-24T18:33:16.237965Z",
     "iopub.status.idle": "2022-03-24T18:33:18.069830Z",
     "shell.execute_reply": "2022-03-24T18:33:18.070224Z",
     "shell.execute_reply.started": "2022-03-24T16:03:37.162003Z"
    },
    "jupyter": {
     "outputs_hidden": false
    },
    "papermill": {
     "duration": 1.839551,
     "end_time": "2022-03-24T18:33:18.070360",
     "exception": false,
     "start_time": "2022-03-24T18:33:16.230809",
     "status": "completed"
    },
    "scrolled": true,
    "tags": []
   },
   "outputs": [
    {
     "data": {
      "text/plain": [
       "(752471,\n",
       " [['上证50ETF净申购突增', 0], ['交银施罗德保本基金将发行', 0]],\n",
       " {0: '财经',\n",
       "  1: '彩票',\n",
       "  2: '房产',\n",
       "  3: '股票',\n",
       "  4: '家居',\n",
       "  5: '教育',\n",
       "  6: '科技',\n",
       "  7: '社会',\n",
       "  8: '时尚',\n",
       "  9: '时政',\n",
       "  10: '体育',\n",
       "  11: '星座',\n",
       "  12: '游戏',\n",
       "  13: '娱乐'})"
      ]
     },
     "execution_count": 2,
     "metadata": {},
     "output_type": "execute_result"
    }
   ],
   "source": [
    "train_set, idx_to_label = load_dataset('./data/data12701/Train.txt')\n",
    "len(train_set), train_set[:2], idx_to_label"
   ]
  },
  {
   "cell_type": "code",
   "execution_count": 3,
   "id": "012125d0",
   "metadata": {
    "execution": {
     "iopub.execute_input": "2022-03-24T18:33:18.083057Z",
     "iopub.status.busy": "2022-03-24T18:33:18.082575Z",
     "iopub.status.idle": "2022-03-24T18:33:18.085069Z",
     "shell.execute_reply": "2022-03-24T18:33:18.084609Z",
     "shell.execute_reply.started": "2022-03-23T22:04:39.304906Z"
    },
    "papermill": {
     "duration": 0.010082,
     "end_time": "2022-03-24T18:33:18.085208",
     "exception": false,
     "start_time": "2022-03-24T18:33:18.075126",
     "status": "completed"
    },
    "scrolled": true,
    "tags": []
   },
   "outputs": [],
   "source": [
    "# # split the train_set into train and dev sets\n",
    "# from random import shuffle, seed\n",
    "\n",
    "# seed(43)\n",
    "# shuffle(train_set)\n",
    "\n",
    "# train_set, dev_set = train_set[:652471], train_set[652471: ]"
   ]
  },
  {
   "cell_type": "code",
   "execution_count": 4,
   "id": "98b664f3",
   "metadata": {
    "collapsed": false,
    "execution": {
     "iopub.execute_input": "2022-03-24T18:33:18.103555Z",
     "iopub.status.busy": "2022-03-24T18:33:18.102760Z",
     "iopub.status.idle": "2022-03-24T18:33:18.385565Z",
     "shell.execute_reply": "2022-03-24T18:33:18.385953Z",
     "shell.execute_reply.started": "2022-03-23T22:04:39.309237Z"
    },
    "jupyter": {
     "outputs_hidden": false
    },
    "papermill": {
     "duration": 0.295396,
     "end_time": "2022-03-24T18:33:18.386101",
     "exception": false,
     "start_time": "2022-03-24T18:33:18.090705",
     "status": "completed"
    },
    "scrolled": true,
    "tags": []
   },
   "outputs": [
    {
     "data": {
      "text/plain": [
       "(83599, ['北京君太百货璀璨秋色 满100省353020元', '教育部：小学高年级将开始学习性知识'])"
      ]
     },
     "execution_count": 4,
     "metadata": {},
     "output_type": "execute_result"
    }
   ],
   "source": [
    "test_set = load_dataset('./data/data12701/Test.txt', test=True)\n",
    "len(test_set), test_set[:2]"
   ]
  },
  {
   "cell_type": "markdown",
   "execution_count": null,
   "id": "f78ce4d3",
   "metadata": {
    "papermill": {
     "duration": 0.004165,
     "end_time": "2022-03-24T18:33:18.394919",
     "exception": false,
     "start_time": "2022-03-24T18:33:18.390754",
     "status": "completed"
    },
    "tags": []
   },
   "outputs": null,
   "source": [
    "## 2. Transform text"
   ]
  },
  {
   "cell_type": "code",
   "execution_count": 5,
   "id": "1e92b494",
   "metadata": {
    "collapsed": false,
    "execution": {
     "iopub.execute_input": "2022-03-24T18:33:18.417753Z",
     "iopub.status.busy": "2022-03-24T18:33:18.411647Z",
     "iopub.status.idle": "2022-03-24T18:33:20.104327Z",
     "shell.execute_reply": "2022-03-24T18:33:20.104706Z",
     "shell.execute_reply.started": "2022-03-23T22:04:39.357481Z"
    },
    "jupyter": {
     "outputs_hidden": false
    },
    "papermill": {
     "duration": 1.70537,
     "end_time": "2022-03-24T18:33:20.104865",
     "exception": false,
     "start_time": "2022-03-24T18:33:18.399495",
     "status": "completed"
    },
    "scrolled": true,
    "tags": []
   },
   "outputs": [
    {
     "name": "stderr",
     "output_type": "stream",
     "text": [
      "[2022-03-25 02:33:20,042] [    INFO]"
     ]
    },
    {
     "name": "stderr",
     "output_type": "stream",
     "text": [
      " - Downloading http://paddlenlp.bj.bcebos.com/models/transformers/bert/bert-wwm-chinese-vocab.txt and saved to /home/aistudio/.paddlenlp/models/bert-wwm-chinese"
     ]
    },
    {
     "name": "stderr",
     "output_type": "stream",
     "text": [
      "\n"
     ]
    },
    {
     "name": "stderr",
     "output_type": "stream",
     "text": [
      "[2022-03-25 02:33:20,045] [    INFO]"
     ]
    },
    {
     "name": "stderr",
     "output_type": "stream",
     "text": [
      " - Downloading bert-wwm-chinese-vocab.txt from http://paddlenlp.bj.bcebos.com/models/transformers/bert/bert-wwm-chinese-vocab.txt"
     ]
    },
    {
     "name": "stderr",
     "output_type": "stream",
     "text": [
      "\n"
     ]
    },
    {
     "name": "stderr",
     "output_type": "stream",
     "text": [
      "\r",
      "  0%|          | 0/107 [00:00<?, ?it/s]"
     ]
    },
    {
     "name": "stderr",
     "output_type": "stream",
     "text": [
      "\r",
      "100%|██████████| 107/107 [00:00<00:00, 55826.66it/s]"
     ]
    },
    {
     "name": "stderr",
     "output_type": "stream",
     "text": [
      "\n"
     ]
    }
   ],
   "source": [
    "from paddlenlp.datasets import MapDataset\n",
    "from paddle.io import BatchSampler, DataLoader\n",
    "from paddlenlp.data import Pad, Stack, Tuple\n",
    "from paddlenlp.transformers import BertForSequenceClassification as SeqClfModel\n",
    "from paddlenlp.transformers import BertTokenizer as PTMTokenizer\n",
    "import numpy as np\n",
    "\n",
    "\n",
    "MODEL_NAME = \"bert-wwm-chinese\"\n",
    "tokenizer = PTMTokenizer.from_pretrained(MODEL_NAME)\n",
    "\n",
    "\n",
    "def example_converter(example, tokenizer, max_seq_length=128):\n",
    "\n",
    "    text, label = example\n",
    "    encoded_inputs = tokenizer(text=text, max_seq_len=max_seq_length)\n",
    "    input_ids = encoded_inputs[\"input_ids\"]\n",
    "    token_type_ids = encoded_inputs[\"token_type_ids\"]\n",
    "    label = np.array([label], dtype=\"int64\")\n",
    "    return input_ids, token_type_ids, label\n",
    "\n",
    "\n",
    "def get_trans_fn(text_encoder, max_seq_length=128):\n",
    "    return lambda ex: example_converter(ex, text_encoder, max_seq_length)\n",
    "\n",
    "\n",
    "def get_batchify_fn(tokenizer=tokenizer):\n",
    "\n",
    "    batchify_fn = lambda samples, fn=Tuple(\n",
    "        Pad(axis=0, pad_val=tokenizer.pad_token_id),\n",
    "        Pad(axis=0, pad_val=tokenizer.pad_token_type_id),\n",
    "        Stack(dtype=\"int64\")\n",
    "    ): fn(samples)\n",
    "\n",
    "    return batchify_fn\n",
    "\n",
    "\n",
    "def create_dataloader(dataset,\n",
    "                      trans_fn,\n",
    "                      batchify_fn,\n",
    "                      test=False,\n",
    "                      batch_size=128,\n",
    "                      shuffle=True,\n",
    "                      sampler=BatchSampler):\n",
    "\n",
    "    if test:\n",
    "        dataset = [[d, 0] for d in dataset]\n",
    "\n",
    "    if not isinstance(dataset, MapDataset):\n",
    "        dataset = MapDataset(dataset)\n",
    "\n",
    "    dataset.map(trans_fn)\n",
    "    batch_sampler = sampler(dataset,\n",
    "                            shuffle=shuffle,\n",
    "                            batch_size=batch_size)\n",
    "\n",
    "    dataloder = DataLoader(dataset,\n",
    "                           batch_sampler=batch_sampler,\n",
    "                           collate_fn=batchify_fn)\n",
    "\n",
    "    return dataloder"
   ]
  },
  {
   "cell_type": "code",
   "execution_count": 6,
   "id": "ab96afe2",
   "metadata": {
    "collapsed": false,
    "execution": {
     "iopub.execute_input": "2022-03-24T18:33:20.398170Z",
     "iopub.status.busy": "2022-03-24T18:33:20.397637Z",
     "iopub.status.idle": "2022-03-24T18:33:20.399414Z",
     "shell.execute_reply": "2022-03-24T18:33:20.399798Z",
     "shell.execute_reply.started": "2022-03-23T22:04:41.109814Z"
    },
    "jupyter": {
     "outputs_hidden": false
    },
    "papermill": {
     "duration": 0.290123,
     "end_time": "2022-03-24T18:33:20.399954",
     "exception": false,
     "start_time": "2022-03-24T18:33:20.109831",
     "status": "completed"
    },
    "scrolled": true,
    "tags": []
   },
   "outputs": [],
   "source": [
    "max_seq_length = 64; batch_size = 512\n",
    "trans_fn = get_trans_fn(tokenizer, max_seq_length)\n",
    "batchify_fn = get_batchify_fn()\n",
    "train_loader = create_dataloader(train_set, trans_fn, batchify_fn, batch_size=batch_size)\n",
    "# dev_loader = create_dataloader(dev_set, trans_fn, batchify_fn, batch_size=batch_size)\n",
    "test_loader = create_dataloader(test_set, trans_fn, batchify_fn, shuffle=False, test=True, batch_size=batch_size)"
   ]
  },
  {
   "cell_type": "markdown",
   "execution_count": null,
   "id": "4bf7c7aa",
   "metadata": {
    "papermill": {
     "duration": 0.004751,
     "end_time": "2022-03-24T18:33:20.410031",
     "exception": false,
     "start_time": "2022-03-24T18:33:20.405280",
     "status": "completed"
    },
    "tags": []
   },
   "outputs": null,
   "source": [
    "## 3. Model preparing"
   ]
  },
  {
   "cell_type": "code",
   "execution_count": 7,
   "id": "ebb37d1a",
   "metadata": {
    "collapsed": false,
    "execution": {
     "iopub.execute_input": "2022-03-24T18:33:20.428647Z",
     "iopub.status.busy": "2022-03-24T18:33:20.428143Z",
     "iopub.status.idle": "2022-03-24T18:33:32.217002Z",
     "shell.execute_reply": "2022-03-24T18:33:32.216466Z",
     "shell.execute_reply.started": "2022-03-23T22:04:41.431668Z"
    },
    "jupyter": {
     "outputs_hidden": false
    },
    "papermill": {
     "duration": 11.80228,
     "end_time": "2022-03-24T18:33:32.217130",
     "exception": false,
     "start_time": "2022-03-24T18:33:20.414850",
     "status": "completed"
    },
    "scrolled": true,
    "tags": []
   },
   "outputs": [
    {
     "name": "stderr",
     "output_type": "stream",
     "text": [
      "[2022-03-25 02:33:20,426] [    INFO]"
     ]
    },
    {
     "name": "stderr",
     "output_type": "stream",
     "text": [
      " - Downloading http://paddlenlp.bj.bcebos.com/models/transformers/bert/bert-wwm-chinese.pdparams and saved to /home/aistudio/.paddlenlp/models/bert-wwm-chinese"
     ]
    },
    {
     "name": "stderr",
     "output_type": "stream",
     "text": [
      "\n"
     ]
    },
    {
     "name": "stderr",
     "output_type": "stream",
     "text": [
      "[2022-03-25 02:33:20,429] [    INFO]"
     ]
    },
    {
     "name": "stderr",
     "output_type": "stream",
     "text": [
      " - Downloading bert-wwm-chinese.pdparams from http://paddlenlp.bj.bcebos.com/models/transformers/bert/bert-wwm-chinese.pdparams"
     ]
    },
    {
     "name": "stderr",
     "output_type": "stream",
     "text": [
      "\n"
     ]
    },
    {
     "name": "stderr",
     "output_type": "stream",
     "text": [
      "\r",
      "  0%|          | 0/399504 [00:00<?, ?it/s]"
     ]
    },
    {
     "name": "stderr",
     "output_type": "stream",
     "text": [
      "\r",
      "  1%|▏         | 5392/399504 [00:00<00:07, 53917.48it/s]"
     ]
    },
    {
     "name": "stderr",
     "output_type": "stream",
     "text": [
      "\r",
      "  3%|▎         | 13014/399504 [00:00<00:06, 59104.82it/s]"
     ]
    },
    {
     "name": "stderr",
     "output_type": "stream",
     "text": [
      "\r",
      "  5%|▌         | 20882/399504 [00:00<00:05, 63871.97it/s]"
     ]
    },
    {
     "name": "stderr",
     "output_type": "stream",
     "text": [
      "\r",
      "  7%|▋         | 28862/399504 [00:00<00:05, 67939.57it/s]"
     ]
    },
    {
     "name": "stderr",
     "output_type": "stream",
     "text": [
      "\r",
      "  9%|▉         | 36489/399504 [00:00<00:05, 70240.34it/s]"
     ]
    },
    {
     "name": "stderr",
     "output_type": "stream",
     "text": [
      "\r",
      " 11%|█         | 44126/399504 [00:00<00:04, 71971.31it/s]"
     ]
    },
    {
     "name": "stderr",
     "output_type": "stream",
     "text": [
      "\r",
      " 13%|█▎        | 51820/399504 [00:00<00:04, 73391.32it/s]"
     ]
    },
    {
     "name": "stderr",
     "output_type": "stream",
     "text": [
      "\r",
      " 15%|█▍        | 59473/399504 [00:00<00:04, 74304.03it/s]"
     ]
    },
    {
     "name": "stderr",
     "output_type": "stream",
     "text": [
      "\r",
      " 17%|█▋        | 67559/399504 [00:00<00:04, 76156.33it/s]"
     ]
    },
    {
     "name": "stderr",
     "output_type": "stream",
     "text": [
      "\r",
      " 19%|█▉        | 75433/399504 [00:01<00:04, 76911.64it/s]"
     ]
    },
    {
     "name": "stderr",
     "output_type": "stream",
     "text": [
      "\r",
      " 21%|██        | 83018/399504 [00:01<00:04, 76431.75it/s]"
     ]
    },
    {
     "name": "stderr",
     "output_type": "stream",
     "text": [
      "\r",
      " 23%|██▎       | 90918/399504 [00:01<00:03, 77183.08it/s]"
     ]
    },
    {
     "name": "stderr",
     "output_type": "stream",
     "text": [
      "\r",
      " 25%|██▍       | 98587/399504 [00:01<00:03, 75450.96it/s]"
     ]
    },
    {
     "name": "stderr",
     "output_type": "stream",
     "text": [
      "\r",
      " 27%|██▋       | 106394/399504 [00:01<00:03, 76217.95it/s]"
     ]
    },
    {
     "name": "stderr",
     "output_type": "stream",
     "text": [
      "\r",
      " 29%|██▊       | 114119/399504 [00:01<00:03, 76522.72it/s]"
     ]
    },
    {
     "name": "stderr",
     "output_type": "stream",
     "text": [
      "\r",
      " 31%|███       | 121919/399504 [00:01<00:03, 76956.82it/s]"
     ]
    },
    {
     "name": "stderr",
     "output_type": "stream",
     "text": [
      "\r",
      " 33%|███▎      | 129996/399504 [00:01<00:03, 78061.15it/s]"
     ]
    },
    {
     "name": "stderr",
     "output_type": "stream",
     "text": [
      "\r",
      " 35%|███▍      | 137953/399504 [00:01<00:03, 78504.63it/s]"
     ]
    },
    {
     "name": "stderr",
     "output_type": "stream",
     "text": [
      "\r",
      " 37%|███▋      | 145889/399504 [00:01<00:03, 78757.42it/s]"
     ]
    },
    {
     "name": "stderr",
     "output_type": "stream",
     "text": [
      "\r",
      " 38%|███▊      | 153765/399504 [00:02<00:03, 78001.87it/s]"
     ]
    },
    {
     "name": "stderr",
     "output_type": "stream",
     "text": [
      "\r",
      " 40%|████      | 161567/399504 [00:02<00:03, 77637.94it/s]"
     ]
    },
    {
     "name": "stderr",
     "output_type": "stream",
     "text": [
      "\r",
      " 42%|████▏     | 169333/399504 [00:02<00:02, 77569.03it/s]"
     ]
    },
    {
     "name": "stderr",
     "output_type": "stream",
     "text": [
      "\r",
      " 44%|████▍     | 177190/399504 [00:02<00:02, 77864.78it/s]"
     ]
    },
    {
     "name": "stderr",
     "output_type": "stream",
     "text": [
      "\r",
      " 46%|████▋     | 185289/399504 [00:02<00:02, 78775.16it/s]"
     ]
    },
    {
     "name": "stderr",
     "output_type": "stream",
     "text": [
      "\r",
      " 48%|████▊     | 193170/399504 [00:02<00:02, 78541.39it/s]"
     ]
    },
    {
     "name": "stderr",
     "output_type": "stream",
     "text": [
      "\r",
      " 50%|█████     | 201027/399504 [00:02<00:02, 77889.82it/s]"
     ]
    },
    {
     "name": "stderr",
     "output_type": "stream",
     "text": [
      "\r",
      " 52%|█████▏    | 208819/399504 [00:02<00:02, 77178.42it/s]"
     ]
    },
    {
     "name": "stderr",
     "output_type": "stream",
     "text": [
      "\r",
      " 54%|█████▍    | 216773/399504 [00:02<00:02, 77869.28it/s]"
     ]
    },
    {
     "name": "stderr",
     "output_type": "stream",
     "text": [
      "\r",
      " 56%|█████▋    | 224906/399504 [00:02<00:02, 78875.10it/s]"
     ]
    },
    {
     "name": "stderr",
     "output_type": "stream",
     "text": [
      "\r",
      " 58%|█████▊    | 232901/399504 [00:03<00:02, 79192.64it/s]"
     ]
    },
    {
     "name": "stderr",
     "output_type": "stream",
     "text": [
      "\r",
      " 60%|██████    | 241072/399504 [00:03<00:01, 79929.25it/s]"
     ]
    },
    {
     "name": "stderr",
     "output_type": "stream",
     "text": [
      "\r",
      " 62%|██████▏   | 249246/399504 [00:03<00:01, 80463.62it/s]"
     ]
    },
    {
     "name": "stderr",
     "output_type": "stream",
     "text": [
      "\r",
      " 64%|██████▍   | 257297/399504 [00:03<00:01, 79874.15it/s]"
     ]
    },
    {
     "name": "stderr",
     "output_type": "stream",
     "text": [
      "\r",
      " 66%|██████▋   | 265289/399504 [00:03<00:01, 79549.74it/s]"
     ]
    },
    {
     "name": "stderr",
     "output_type": "stream",
     "text": [
      "\r",
      " 68%|██████▊   | 273506/399504 [00:03<00:01, 80317.68it/s]"
     ]
    },
    {
     "name": "stderr",
     "output_type": "stream",
     "text": [
      "\r",
      " 70%|███████   | 281567/399504 [00:03<00:01, 80404.43it/s]"
     ]
    },
    {
     "name": "stderr",
     "output_type": "stream",
     "text": [
      "\r",
      " 73%|███████▎  | 289790/399504 [00:03<00:01, 80941.96it/s]"
     ]
    },
    {
     "name": "stderr",
     "output_type": "stream",
     "text": [
      "\r",
      " 75%|███████▍  | 297887/399504 [00:03<00:01, 80456.64it/s]"
     ]
    },
    {
     "name": "stderr",
     "output_type": "stream",
     "text": [
      "\r",
      " 77%|███████▋  | 305936/399504 [00:03<00:01, 76829.52it/s]"
     ]
    },
    {
     "name": "stderr",
     "output_type": "stream",
     "text": [
      "\r",
      " 79%|███████▊  | 313991/399504 [00:04<00:01, 77907.37it/s]"
     ]
    },
    {
     "name": "stderr",
     "output_type": "stream",
     "text": [
      "\r",
      " 81%|████████  | 322201/399504 [00:04<00:00, 79118.37it/s]"
     ]
    },
    {
     "name": "stderr",
     "output_type": "stream",
     "text": [
      "\r",
      " 83%|████████▎ | 330327/399504 [00:04<00:00, 79746.64it/s]"
     ]
    },
    {
     "name": "stderr",
     "output_type": "stream",
     "text": [
      "\r",
      " 85%|████████▍ | 338378/399504 [00:04<00:00, 79972.16it/s]"
     ]
    },
    {
     "name": "stderr",
     "output_type": "stream",
     "text": [
      "\r",
      " 87%|████████▋ | 346389/399504 [00:04<00:00, 78146.23it/s]"
     ]
    },
    {
     "name": "stderr",
     "output_type": "stream",
     "text": [
      "\r",
      " 89%|████████▊ | 354223/399504 [00:04<00:00, 65861.82it/s]"
     ]
    },
    {
     "name": "stderr",
     "output_type": "stream",
     "text": [
      "\r",
      " 90%|█████████ | 361152/399504 [00:04<00:00, 60245.23it/s]"
     ]
    },
    {
     "name": "stderr",
     "output_type": "stream",
     "text": [
      "\r",
      " 92%|█████████▏| 367510/399504 [00:04<00:00, 58230.31it/s]"
     ]
    },
    {
     "name": "stderr",
     "output_type": "stream",
     "text": [
      "\r",
      " 94%|█████████▎| 373890/399504 [00:04<00:00, 59795.62it/s]"
     ]
    },
    {
     "name": "stderr",
     "output_type": "stream",
     "text": [
      "\r",
      " 95%|█████████▌| 380736/399504 [00:05<00:00, 62154.49it/s]"
     ]
    },
    {
     "name": "stderr",
     "output_type": "stream",
     "text": [
      "\r",
      " 97%|█████████▋| 388644/399504 [00:05<00:00, 66417.98it/s]"
     ]
    },
    {
     "name": "stderr",
     "output_type": "stream",
     "text": [
      "\r",
      " 99%|█████████▉| 396695/399504 [00:05<00:00, 70097.39it/s]"
     ]
    },
    {
     "name": "stderr",
     "output_type": "stream",
     "text": [
      "\r",
      "100%|██████████| 399504/399504 [00:05<00:00, 75295.38it/s]"
     ]
    },
    {
     "name": "stderr",
     "output_type": "stream",
     "text": [
      "\n"
     ]
    },
    {
     "name": "stderr",
     "output_type": "stream",
     "text": [
      "W0325 02:33:25.803910   255 device_context.cc:447] Please NOTE: device: 0, GPU Compute Capability: 7.0, Driver API Version: 10.1, Runtime API Version: 10.1\n",
      "W0325 02:33:25.809233   255 device_context.cc:465] device: 0, cuDNN Version: 7.6.\n"
     ]
    }
   ],
   "source": [
    "import paddle\n",
    "from paddlenlp.transformers import LinearDecayWithWarmup\n",
    "\n",
    "\n",
    "model = SeqClfModel.from_pretrained(MODEL_NAME, num_classes=len(idx_to_label))\n",
    "\n",
    "learning_rate = 5e-5; epochs = 5\n",
    "warmup_proportion = 0.1; weight_decay = 0.01\n",
    "num_training_steps = len(train_loader) * epochs\n",
    "lr_scheduler = LinearDecayWithWarmup(learning_rate, num_training_steps, warmup_proportion)\n",
    "optimizer = paddle.optimizer.AdamW(\n",
    "    learning_rate=lr_scheduler,\n",
    "    parameters=model.parameters(),\n",
    "    weight_decay=weight_decay,\n",
    "    apply_decay_param_fun=lambda x: x in [\n",
    "        p.name for n, p in model.named_parameters()\n",
    "        if not any(nd in n for nd in [\"bias\", \"norm\"])\n",
    "    ])\n",
    "\n",
    "criterion = paddle.nn.loss.CrossEntropyLoss()\n",
    "metric = paddle.metric.Accuracy()\n",
    "\n",
    "\n",
    "# @paddle.no_grad()\n",
    "# def evaluate(model, criterion, metric, data_loader):\n",
    "#     \"\"\"\n",
    "#     Given a dataset, it evals model and computes the metric.\n",
    "\n",
    "#     Args:\n",
    "#         model(obj:`paddle.nn.Layer`): A model to classify texts.\n",
    "#         data_loader(obj:`paddle.io.DataLoader`): The dataset loader which generates batches.\n",
    "#         criterion(obj:`paddle.nn.Layer`): It can compute the loss.\n",
    "#         metric(obj:`paddle.metric.Metric`): The evaluation metric.\n",
    "#     \"\"\"\n",
    "#     model.eval()\n",
    "#     metric.reset()\n",
    "#     losses = []\n",
    "#     for batch in data_loader:\n",
    "#         input_ids, token_type_ids, labels = batch\n",
    "#         logits = model(input_ids, token_type_ids)\n",
    "#         loss = criterion(logits, labels)\n",
    "#         losses.append(loss.numpy())\n",
    "#         correct = metric.compute(logits, labels)\n",
    "#         metric.update(correct)\n",
    "#         accu = metric.accumulate()\n",
    "#     print(\"eval loss: %.5f, accu: %.5f\" % (np.mean(losses), accu))\n",
    "#     model.train()\n",
    "#     metric.reset()"
   ]
  },
  {
   "cell_type": "markdown",
   "execution_count": null,
   "id": "d4d698a7",
   "metadata": {
    "papermill": {
     "duration": 0.006974,
     "end_time": "2022-03-24T18:33:32.232763",
     "exception": false,
     "start_time": "2022-03-24T18:33:32.225789",
     "status": "completed"
    },
    "tags": []
   },
   "outputs": null,
   "source": [
    "## 4. Model training"
   ]
  },
  {
   "cell_type": "code",
   "execution_count": 8,
   "id": "75247d8e",
   "metadata": {
    "collapsed": false,
    "execution": {
     "iopub.execute_input": "2022-03-24T18:33:32.255809Z",
     "iopub.status.busy": "2022-03-24T18:33:32.255331Z",
     "iopub.status.idle": "2022-03-24T19:57:30.976356Z",
     "shell.execute_reply": "2022-03-24T19:57:30.976801Z"
    },
    "jupyter": {
     "outputs_hidden": false
    },
    "papermill": {
     "duration": 5038.737036,
     "end_time": "2022-03-24T19:57:30.976973",
     "exception": false,
     "start_time": "2022-03-24T18:33:32.239937",
     "status": "completed"
    },
    "scrolled": true,
    "tags": []
   },
   "outputs": [
    {
     "name": "stdout",
     "output_type": "stream",
     "text": [
      "global step 5000, epoch: 4, batch: 590, loss: 0.09597, acc: 0.94230"
     ]
    },
    {
     "name": "stdout",
     "output_type": "stream",
     "text": [
      "\n"
     ]
    }
   ],
   "source": [
    "import paddle.nn.functional as F\n",
    "\n",
    "\n",
    "global_step = 0\n",
    "paddle.set_device(\"gpu\")\n",
    "for epoch in range(1, epochs + 1):\n",
    "    for step, batch in enumerate(train_loader, start=1):\n",
    "        input_ids, segment_ids, labels = batch\n",
    "        logits = model(input_ids, segment_ids)\n",
    "        loss = criterion(logits, labels)\n",
    "        probs = F.softmax(logits, axis=1)\n",
    "        correct = metric.compute(probs, labels)\n",
    "        metric.update(correct)\n",
    "        acc = metric.accumulate()\n",
    "\n",
    "        global_step += 1\n",
    "        if global_step % 5000 == 0 :\n",
    "            print(\"global step %d, epoch: %d, batch: %d, loss: %.5f, acc: %.5f\" % (global_step, epoch, step, loss, acc))\n",
    "\n",
    "        loss.backward()\n",
    "        optimizer.step()\n",
    "        lr_scheduler.step()\n",
    "        optimizer.clear_grad()\n",
    "    # evaluate(model, criterion, metric, dev_loader)\n",
    "\n",
    "\n",
    "# model.save_pretrained('/home/aistudio/checkpoint')\n",
    "# tokenizer.save_pretrained('/home/aistudio/checkpoint')"
   ]
  },
  {
   "cell_type": "markdown",
   "execution_count": null,
   "id": "34252377",
   "metadata": {
    "papermill": {
     "duration": 0.007165,
     "end_time": "2022-03-24T19:57:30.992000",
     "exception": false,
     "start_time": "2022-03-24T19:57:30.984835",
     "status": "completed"
    },
    "tags": []
   },
   "outputs": null,
   "source": [
    "## 5. Prediction"
   ]
  },
  {
   "cell_type": "code",
   "execution_count": 9,
   "id": "8d4664f6",
   "metadata": {
    "collapsed": false,
    "execution": {
     "iopub.execute_input": "2022-03-24T19:57:31.080757Z",
     "iopub.status.busy": "2022-03-24T19:57:31.069148Z",
     "iopub.status.idle": "2022-03-24T19:58:21.271246Z",
     "shell.execute_reply": "2022-03-24T19:58:21.270307Z"
    },
    "jupyter": {
     "outputs_hidden": false
    },
    "papermill": {
     "duration": 50.272078,
     "end_time": "2022-03-24T19:58:21.271456",
     "exception": false,
     "start_time": "2022-03-24T19:57:30.999378",
     "status": "completed"
    },
    "scrolled": true,
    "tags": []
   },
   "outputs": [],
   "source": [
    "predictions = []\n",
    "\n",
    "for batch in test_loader:\n",
    "    input_ids, segment_ids, _ = batch\n",
    "    logits = model(input_ids, segment_ids)\n",
    "    probs = F.softmax(logits, axis=1)\n",
    "    preds = paddle.argmax(probs, axis=1).numpy().tolist()\n",
    "    predictions.extend(preds)"
   ]
  },
  {
   "cell_type": "code",
   "execution_count": 10,
   "id": "a551f8ce",
   "metadata": {
    "collapsed": false,
    "execution": {
     "iopub.execute_input": "2022-03-24T19:58:21.295024Z",
     "iopub.status.busy": "2022-03-24T19:58:21.294467Z",
     "iopub.status.idle": "2022-03-24T19:58:21.320450Z",
     "shell.execute_reply": "2022-03-24T19:58:21.320827Z"
    },
    "jupyter": {
     "outputs_hidden": false
    },
    "papermill": {
     "duration": 0.041138,
     "end_time": "2022-03-24T19:58:21.320984",
     "exception": false,
     "start_time": "2022-03-24T19:58:21.279846",
     "status": "completed"
    },
    "scrolled": true,
    "tags": []
   },
   "outputs": [],
   "source": [
    "with open('result.txt', 'w') as f:\n",
    "    f.write(f'Acc: {acc}\\n')\n",
    "    f.write(idx_to_label[predictions[0]])\n",
    "    for p in predictions[1:]:\n",
    "        f.write('\\n' + idx_to_label[p])\n",
    "    f.close()"
   ]
  }
 ],
 "metadata": {
  "kernelspec": {
   "display_name": "Python 3",
   "language": "python",
   "name": "py35-paddle1.2.0"
  },
  "language_info": {
   "codemirror_mode": {
    "name": "ipython",
    "version": 3
   },
   "file_extension": ".py",
   "mimetype": "text/x-python",
   "name": "python",
   "nbconvert_exporter": "python",
   "pygments_lexer": "ipython3",
   "version": "3.7.4"
  },
  "papermill": {
   "default_parameters": {},
   "duration": 5109.064605,
   "end_time": "2022-03-24T19:58:24.057002",
   "environment_variables": {},
   "exception": null,
   "input_path": "/home/aistudio/main.ipynb",
   "output_path": "/home/aistudio/.main.ipynb",
   "parameters": {},
   "start_time": "2022-03-24T18:33:14.992397",
   "version": "2.3.3"
  }
 },
 "nbformat": 4,
 "nbformat_minor": 5
}